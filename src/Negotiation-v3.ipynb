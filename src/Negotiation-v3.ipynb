{
 "cells": [
  {
   "cell_type": "code",
   "execution_count": 1,
   "metadata": {},
   "outputs": [
    {
     "name": "stdout",
     "output_type": "stream",
     "text": [
      "Automatic pdb calling has been turned OFF\n"
     ]
    }
   ],
   "source": [
    "import os, urllib\n",
    "from PIL import Image\n",
    "from io import BytesIO\n",
    "import numpy as np\n",
    "from skimage.io import imshow\n",
    "import matplotlib.pyplot as plt\n",
    "from matplotlib import gridspec\n",
    "from ipywidgets import FloatSlider, interact, fixed, HBox, VBox, Label, Button, Output, IntProgress, FloatProgress\n",
    "%pdb 0\n",
    "plt.rcParams['figure.max_open_warning'] = False\n",
    "import pandas as pd\n",
    "import IPython\n",
    "%matplotlib inline\n",
    "from skimage.measure import label\n",
    "\n",
    "from DCSegUtils import *\n",
    "from SegmentationModel import SegmentationModel\n",
    "from mpl_toolkits.axes_grid1 import make_axes_locatable\n",
    "from matplotlib import colors\n",
    "from NegotiationTools import NegotiationTools\n",
    "\n",
    "import seaborn as sb\n",
    "import pandas as pd\n",
    "import datetime\n",
    "from multiprocessing import Process, Queue"
   ]
  },
  {
   "cell_type": "code",
   "execution_count": 2,
   "metadata": {},
   "outputs": [],
   "source": [
    "MODEL_OUT_FOLDER = 'models/'\n",
    "ID_TO_LABEL = {16: 'bird', 17: 'cat', 18: 'dog', 19: 'horse'}\n",
    "LABEL_TO_ID = {'bird': 16, 'cat': 17, 'dog': 18, 'horse': 19}\n",
    "CHANNEL_ORDER = [0, 16, 17, 18, 19] # Order of channels in output segmentation and corresponding dataset labels\n",
    "CHANNEL_NAMES = [ID_TO_LABEL[i] if i!=0 else 'other' for i in CHANNEL_ORDER]\n",
    "ALL_LABELS = [ID_TO_LABEL[i]  for i in CHANNEL_ORDER if i!=0]\n",
    "ds_csv_paths = {dset: {label: 'datasets/coco_animals_{}_{}.csv'.format(dset, label) for label in ALL_LABELS} for dset in ['train', 'validation', 'test']}"
   ]
  },
  {
   "cell_type": "markdown",
   "metadata": {},
   "source": [
    "# Combining Segmentation models using Cooperative Negotiation"
   ]
  },
  {
   "cell_type": "markdown",
   "metadata": {},
   "source": [
    "## Agents and Mediator definition"
   ]
  },
  {
   "cell_type": "code",
   "execution_count": 3,
   "metadata": {},
   "outputs": [],
   "source": [
    "class Agent():\n",
    "    def __init__(self, agentname, model, alpha_fun):\n",
    "        self.agentname=agentname\n",
    "        self.model=model\n",
    "        self.task = None\n",
    "        self.initial_proposal = None\n",
    "        self.alpha = alpha_fun\n",
    "        \n",
    "    def new_task(self, image):\n",
    "        self.task = image\n",
    "        self.initial_proposal = self.model.predict(image).numpy()[0]\n",
    "        #logits=logits[:self.task.size[1], :self.task.size[0], ...] # Otherwise logits are a square matrix [when using DeepLab]\n",
    "        #self.initial_proposal = softmax(logits, axis=-1)\n",
    "        self.last_proposal = self.initial_proposal\n",
    "        return self.initial_proposal\n",
    "    \n",
    "    def utility(self, proposal):\n",
    "        'Returns a utility of shape (labels) between a proposal and self.optimal'\n",
    "        return np.array([np.linalg.norm(self.optimal[...,l]-proposal[...,l]) for l in range(self.optimal.shape[-1])])\n",
    "    \n",
    "    def propose(self, agreement):\n",
    "        self.last_agreement = agreement\n",
    "        self.last_proposal = self.last_proposal + self.alpha(self.last_proposal)*(agreement - self.last_proposal)\n",
    "        \n",
    "        return self.last_proposal\n",
    "    "
   ]
  },
  {
   "cell_type": "code",
   "execution_count": 4,
   "metadata": {},
   "outputs": [],
   "source": [
    "class Mediator():\n",
    "    def __init__(self, agents):\n",
    "        self.agents = agents\n",
    "        self.last_step=0\n",
    "        self.W = None\n",
    "        self.tools = NegotiationTools()\n",
    "        \n",
    "    def start_new_task(self, image):\n",
    "        self.last_step=0\n",
    "        self.task = image\n",
    "        self.initial_proposals = np.array([agent.new_task(self.task) for agent in self.agents])\n",
    "        self.last_proposals = self.initial_proposals\n",
    "        self.W = np.ones_like(self.initial_proposals)\n",
    "        \n",
    "        return self.last_proposals\n",
    "\n",
    "        \n",
    "    def negotiation(self, task, timeout = 1000):\n",
    "        for i in range(self.last_step, self.last_step+timeout):\n",
    "            if i==0:\n",
    "                self.last_proposals = self.start_new_task(task)\n",
    "                # self.agent_queues = [Queue() for a in self.agents]\n",
    "                # self.agent_processes = [(self.agent_queues[a], Process(target=self.agents[a].propose, args=(self.agent_queues[a],))) for a in range(len(self.agents))]\n",
    "            else:\n",
    "                # Propose the new agreement to the agents\n",
    "                \n",
    "                self.last_proposals = np.array([agent.propose(self.last_agreement) for agent in self.agents]) # ((p0, u0), (p1, u1), ...)\n",
    "                \n",
    "                    \n",
    "            self.last_step = i            \n",
    "            self.last_agreement = np.divide(np.sum(self.last_proposals*self.W, axis=0), np.sum(self.W, axis=0))\n",
    "\n",
    "            if self.tools.get_consensus(self.last_proposals).all():\n",
    "                return 'consensus', self.last_agreement, self.last_proposals\n",
    "            else:\n",
    "                yield 'negotiation', self.last_agreement, self.last_proposals\n",
    "        return 'timeout', self.last_agreement, self.last_proposals"
   ]
  },
  {
   "cell_type": "markdown",
   "metadata": {},
   "source": [
    "### Loading Deep Learning Models"
   ]
  },
  {
   "cell_type": "code",
   "execution_count": 5,
   "metadata": {},
   "outputs": [
    {
     "name": "stderr",
     "output_type": "stream",
     "text": [
      "WARNING: Logging before flag parsing goes to stderr.\n",
      "W0910 15:44:29.575736 139628062729984 hdf5_format.py:171] No training configuration found in save file: the model was *not* compiled. Compile it manually.\n"
     ]
    },
    {
     "name": "stdout",
     "output_type": "stream",
     "text": [
      "Loaded model for label cat at epoch 275\n"
     ]
    },
    {
     "name": "stderr",
     "output_type": "stream",
     "text": [
      "W0910 15:44:32.764213 139628062729984 hdf5_format.py:171] No training configuration found in save file: the model was *not* compiled. Compile it manually.\n"
     ]
    },
    {
     "name": "stdout",
     "output_type": "stream",
     "text": [
      "Loaded model for label bird at epoch 275\n"
     ]
    },
    {
     "name": "stderr",
     "output_type": "stream",
     "text": [
      "W0910 15:44:35.909456 139628062729984 hdf5_format.py:171] No training configuration found in save file: the model was *not* compiled. Compile it manually.\n"
     ]
    },
    {
     "name": "stdout",
     "output_type": "stream",
     "text": [
      "Loaded model for label dog at epoch 275\n"
     ]
    },
    {
     "name": "stderr",
     "output_type": "stream",
     "text": [
      "W0910 15:44:39.093947 139628062729984 hdf5_format.py:171] No training configuration found in save file: the model was *not* compiled. Compile it manually.\n"
     ]
    },
    {
     "name": "stdout",
     "output_type": "stream",
     "text": [
      "Loaded model for label horse at epoch 275\n"
     ]
    }
   ],
   "source": [
    "# Creating the models\n",
    "models = {AGENT_NAMES[i]: SegmentationModel(ALL_LABELS[i]) for i in range(len(AGENT_NAMES))}\n",
    "# Load the checkpoints\n",
    "for l, m in models.items():\n",
    "    m.load_finetuned_network(epoch=275)"
   ]
  },
  {
   "cell_type": "markdown",
   "metadata": {},
   "source": [
    "## Strategy Definitions"
   ]
  },
  {
   "cell_type": "code",
   "execution_count": 6,
   "metadata": {},
   "outputs": [],
   "source": [
    "alphasliders = {m:[FloatSlider(description=l, min=0., max=1., step=0.01, value=np.array(0.5)) for l in CHANNEL_NAMES] for m in AGENT_NAMES}\n",
    "sliders = [VBox([Label(model)]+alphasliders[model]) for model in alphasliders.keys()]\n",
    "HBox(sliders)\n",
    "\n",
    "def alpha_funcs_val():\n",
    "    '''Definitions of the alpha_fun for each model. An alpha_fun takes the last proposal as input and outputs a value alpha for each pixel'''\n",
    "    alpha_acc = {m: [1-slider.value for slider in alphasliders[m]] for m in alphasliders.keys()}\n",
    "    functions = {modelname: lambda x, v=values: np.array(v) for (modelname, values) in alpha_acc.items()}\n",
    "    return functions\n",
    "\n",
    "def alpha_funcs_ep():\n",
    "    '''Definitions of the alpha_fun for each model. An alpha_fun takes the last proposal as input and outputs a value alpha for each pixel'''\n",
    "    def entropy_over_pixels(last_proposal):\n",
    "        n_labels = last_proposal.shape[-1]\n",
    "        entr = lambda x, base=n_labels, eps=10e-16: -np.sum(x*np.log(x+eps)/np.log(base),axis=-1)\n",
    "        entr_over_pixels = entr(last_proposal)\n",
    "        return np.expand_dims(entr_over_pixels, axis=-1)\n",
    "    return {modelname: entropy_over_pixels for modelname in models.keys()}\n",
    "\n",
    "def alpha_funcs_ei():\n",
    "    '''Definitions of the alpha_fun for each model. An alpha_fun takes the last proposal as input and outputs a value alpha for each pixel'''\n",
    "    from scipy.stats import entropy\n",
    "    def entropy_over_image(last_proposal):\n",
    "        n_labels = last_proposal.shape[-1]\n",
    "        entr = lambda x, base=n_labels, eps=10e-16: -np.sum(x*np.log(x+eps)/np.log(base),axis=-1)\n",
    "        entr_over_pixels = entr(last_proposal)\n",
    "        return np.mean(entr_over_pixels)   \n",
    "    return {model_name: entropy_over_image for model_name in models.keys()}\n",
    "\n",
    "\n",
    "\n"
   ]
  },
  {
   "cell_type": "code",
   "execution_count": 7,
   "metadata": {},
   "outputs": [],
   "source": [
    "# loaded = pd.read_csv('params.csv', index_col=0) | Has to be recalculated for the new models\n",
    "# Initial values are currently random\n"
   ]
  },
  {
   "cell_type": "code",
   "execution_count": 8,
   "metadata": {},
   "outputs": [
    {
     "name": "stdout",
     "output_type": "stream",
     "text": [
      "Running: Sample: 2, Step: 319, Method: ei"
     ]
    },
    {
     "ename": "KeyboardInterrupt",
     "evalue": "",
     "output_type": "error",
     "traceback": [
      "\u001b[0;31m---------------------------------------------------------------------------\u001b[0m",
      "\u001b[0;31mKeyboardInterrupt\u001b[0m                         Traceback (most recent call last)",
      "\u001b[0;32m<ipython-input-8-d7043f8d7354>\u001b[0m in \u001b[0;36m<module>\u001b[0;34m\u001b[0m\n\u001b[1;32m     40\u001b[0m     \u001b[0mnext_step_ei\u001b[0m \u001b[0;34m=\u001b[0m \u001b[0menumerate\u001b[0m\u001b[0;34m(\u001b[0m\u001b[0mmediator_ei\u001b[0m\u001b[0;34m.\u001b[0m\u001b[0mnegotiation\u001b[0m\u001b[0;34m(\u001b[0m\u001b[0minput_sample\u001b[0m\u001b[0;34m,\u001b[0m \u001b[0mtimeout\u001b[0m\u001b[0;34m=\u001b[0m\u001b[0mSTEPS\u001b[0m\u001b[0;34m)\u001b[0m\u001b[0;34m)\u001b[0m\u001b[0;34m\u001b[0m\u001b[0m\n\u001b[1;32m     41\u001b[0m     \u001b[0;32mfor\u001b[0m \u001b[0mstep\u001b[0m\u001b[0;34m,\u001b[0m \u001b[0;34m(\u001b[0m\u001b[0mstatus\u001b[0m\u001b[0;34m,\u001b[0m \u001b[0mcurr_agreement\u001b[0m\u001b[0;34m,\u001b[0m \u001b[0mcurr_proposals\u001b[0m\u001b[0;34m)\u001b[0m \u001b[0;32min\u001b[0m \u001b[0mnext_step_ei\u001b[0m\u001b[0;34m:\u001b[0m\u001b[0;34m\u001b[0m\u001b[0m\n\u001b[0;32m---> 42\u001b[0;31m         \u001b[0mresult_logger\u001b[0m\u001b[0;34m.\u001b[0m\u001b[0mlog_step\u001b[0m\u001b[0;34m(\u001b[0m\u001b[0msample\u001b[0m\u001b[0;34m=\u001b[0m\u001b[0mi\u001b[0m\u001b[0;34m,\u001b[0m \u001b[0mpng_path\u001b[0m\u001b[0;34m=\u001b[0m\u001b[0mpng_path_str\u001b[0m\u001b[0;34m,\u001b[0m \u001b[0mseg_path\u001b[0m\u001b[0;34m=\u001b[0m\u001b[0mseg_path_str\u001b[0m\u001b[0;34m,\u001b[0m \u001b[0mstep\u001b[0m\u001b[0;34m=\u001b[0m\u001b[0mstep\u001b[0m\u001b[0;34m,\u001b[0m \u001b[0mmethod\u001b[0m\u001b[0;34m=\u001b[0m\u001b[0;34m'ei'\u001b[0m\u001b[0;34m,\u001b[0m \u001b[0mstatus\u001b[0m\u001b[0;34m=\u001b[0m\u001b[0mstatus\u001b[0m\u001b[0;34m,\u001b[0m \u001b[0magreement\u001b[0m\u001b[0;34m=\u001b[0m\u001b[0mcurr_agreement\u001b[0m\u001b[0;34m,\u001b[0m \u001b[0mproposals\u001b[0m\u001b[0;34m=\u001b[0m\u001b[0mcurr_proposals\u001b[0m\u001b[0;34m,\u001b[0m \u001b[0mground_truth\u001b[0m\u001b[0;34m=\u001b[0m\u001b[0mground_truth_np\u001b[0m\u001b[0;34m)\u001b[0m\u001b[0;34m\u001b[0m\u001b[0m\n\u001b[0m\u001b[1;32m     43\u001b[0m         \u001b[0mprint\u001b[0m\u001b[0;34m(\u001b[0m\u001b[0;34m\"\\rRunning: Sample: {}, Step: {}, Method: {}\"\u001b[0m\u001b[0;34m.\u001b[0m\u001b[0mformat\u001b[0m\u001b[0;34m(\u001b[0m\u001b[0mi\u001b[0m\u001b[0;34m,\u001b[0m \u001b[0mstep\u001b[0m\u001b[0;34m,\u001b[0m \u001b[0;34m'ei'\u001b[0m\u001b[0;34m)\u001b[0m\u001b[0;34m,\u001b[0m \u001b[0mend\u001b[0m\u001b[0;34m=\u001b[0m\u001b[0;34m''\u001b[0m\u001b[0;34m)\u001b[0m\u001b[0;34m\u001b[0m\u001b[0m\n\u001b[1;32m     44\u001b[0m \u001b[0;34m\u001b[0m\u001b[0m\n",
      "\u001b[0;32m/tf/NegotiationTools.py\u001b[0m in \u001b[0;36mlog_step\u001b[0;34m(self, sample, png_path, seg_path, step, method, status, agreement, proposals, ground_truth)\u001b[0m\n\u001b[1;32m     95\u001b[0m \u001b[0;34m\u001b[0m\u001b[0m\n\u001b[1;32m     96\u001b[0m         \u001b[0;31m# Computation to be performed once per step (as proposals and agreement are different at each call)\u001b[0m\u001b[0;34m\u001b[0m\u001b[0;34m\u001b[0m\u001b[0m\n\u001b[0;32m---> 97\u001b[0;31m         \u001b[0mbinary_proposals\u001b[0m \u001b[0;34m=\u001b[0m \u001b[0mnp\u001b[0m\u001b[0;34m.\u001b[0m\u001b[0mequal\u001b[0m\u001b[0;34m(\u001b[0m\u001b[0mproposals\u001b[0m\u001b[0;34m,\u001b[0m \u001b[0mproposals\u001b[0m\u001b[0;34m.\u001b[0m\u001b[0mmax\u001b[0m\u001b[0;34m(\u001b[0m\u001b[0maxis\u001b[0m\u001b[0;34m=\u001b[0m\u001b[0;36m3\u001b[0m\u001b[0;34m)\u001b[0m\u001b[0;34m[\u001b[0m\u001b[0;34m...\u001b[0m\u001b[0;34m,\u001b[0m\u001b[0mnp\u001b[0m\u001b[0;34m.\u001b[0m\u001b[0mnewaxis\u001b[0m\u001b[0;34m]\u001b[0m\u001b[0;34m)\u001b[0m\u001b[0;34m\u001b[0m\u001b[0m\n\u001b[0m\u001b[1;32m     98\u001b[0m         \u001b[0mbinary_agreement\u001b[0m \u001b[0;34m=\u001b[0m \u001b[0mnp\u001b[0m\u001b[0;34m.\u001b[0m\u001b[0mequal\u001b[0m\u001b[0;34m(\u001b[0m\u001b[0magreement\u001b[0m\u001b[0;34m,\u001b[0m \u001b[0magreement\u001b[0m\u001b[0;34m.\u001b[0m\u001b[0mmax\u001b[0m\u001b[0;34m(\u001b[0m\u001b[0maxis\u001b[0m\u001b[0;34m=\u001b[0m\u001b[0;34m-\u001b[0m\u001b[0;36m1\u001b[0m\u001b[0;34m)\u001b[0m\u001b[0;34m[\u001b[0m\u001b[0;34m...\u001b[0m\u001b[0;34m,\u001b[0m\u001b[0mnp\u001b[0m\u001b[0;34m.\u001b[0m\u001b[0mnewaxis\u001b[0m\u001b[0;34m]\u001b[0m\u001b[0;34m)\u001b[0m\u001b[0;34m\u001b[0m\u001b[0m\n\u001b[1;32m     99\u001b[0m \u001b[0;34m\u001b[0m\u001b[0m\n",
      "\u001b[0;32m/usr/local/lib/python3.5/dist-packages/numpy/core/_methods.py\u001b[0m in \u001b[0;36m_amax\u001b[0;34m(a, axis, out, keepdims, initial)\u001b[0m\n\u001b[1;32m     26\u001b[0m def _amax(a, axis=None, out=None, keepdims=False,\n\u001b[1;32m     27\u001b[0m           initial=_NoValue):\n\u001b[0;32m---> 28\u001b[0;31m     \u001b[0;32mreturn\u001b[0m \u001b[0mumr_maximum\u001b[0m\u001b[0;34m(\u001b[0m\u001b[0ma\u001b[0m\u001b[0;34m,\u001b[0m \u001b[0maxis\u001b[0m\u001b[0;34m,\u001b[0m \u001b[0;32mNone\u001b[0m\u001b[0;34m,\u001b[0m \u001b[0mout\u001b[0m\u001b[0;34m,\u001b[0m \u001b[0mkeepdims\u001b[0m\u001b[0;34m,\u001b[0m \u001b[0minitial\u001b[0m\u001b[0;34m)\u001b[0m\u001b[0;34m\u001b[0m\u001b[0m\n\u001b[0m\u001b[1;32m     29\u001b[0m \u001b[0;34m\u001b[0m\u001b[0m\n\u001b[1;32m     30\u001b[0m def _amin(a, axis=None, out=None, keepdims=False,\n",
      "\u001b[0;31mKeyboardInterrupt\u001b[0m: "
     ]
    }
   ],
   "source": [
    "# Instancing agents and mediators\n",
    "\n",
    "result_logger = NegotiationTools()\n",
    "\n",
    "alpha_v = alpha_funcs_val()\n",
    "alpha_ep = alpha_funcs_ep()\n",
    "alpha_ei = alpha_funcs_ei()\n",
    "\n",
    "METHODS = ['v', 'ep', 'ei']\n",
    "STEPS = 500\n",
    "DATASET = 'datasets/coco_animals_test_balanced.csv'\n",
    "for i, (png_path, seg_path, input_sample, ground_truth) in enumerate(SegmentationModel('dummy').load_test_dataset(DATASET, batch_size=1)):\n",
    "    \n",
    "    agents_v = [Agent(modelname, models[modelname], alpha_v[modelname]) for modelname in AGENT_NAMES]\n",
    "    mediator_v = Mediator(agents_v)\n",
    "    agents_ep = [Agent(modelname, models[modelname], alpha_ep[modelname]) for modelname in AGENT_NAMES]\n",
    "    mediator_ep = Mediator(agents_ep)\n",
    "    agents_ei = [Agent(modelname, models[modelname], alpha_ei[modelname]) for modelname in AGENT_NAMES]\n",
    "    mediator_ei = Mediator(agents_ei)\n",
    "    \n",
    "    \n",
    "    ground_truth_np = ground_truth.numpy()\n",
    "    png_path_str = png_path.numpy().astype(np.str).item()\n",
    "    seg_path_str = seg_path.numpy().astype(np.str).item()\n",
    "    # V\n",
    "\n",
    "    next_step_v = enumerate(mediator_v.negotiation(input_sample, timeout=STEPS))\n",
    "    for step, (status, curr_agreement, curr_proposals) in next_step_v:\n",
    "        result_logger.log_step(sample=i, png_path=png_path_str, seg_path=seg_path_str, step=step, method='v', status=status, agreement=curr_agreement, proposals=curr_proposals, ground_truth=ground_truth_np)\n",
    "        print(\"\\rRunning: Sample: {}, Step: {}, Method: {}\".format(i, step, 'v'), end='')\n",
    "        \n",
    "    # EP\n",
    "\n",
    "    next_step_ep = enumerate(mediator_ep.negotiation(input_sample, timeout=STEPS))\n",
    "    for step, (status, curr_agreement, curr_proposals) in next_step_ep:\n",
    "        result_logger.log_step(sample=i, png_path=png_path_str, seg_path=seg_path_str, step=step, method='ep', status=status, agreement=curr_agreement, proposals=curr_proposals, ground_truth=ground_truth_np)\n",
    "        print(\"\\rRunning: Sample: {}, Step: {}, Method: {}\".format(i, step, 'ep'), end='')\n",
    "    # EI\n",
    "\n",
    "    next_step_ei = enumerate(mediator_ei.negotiation(input_sample, timeout=STEPS))\n",
    "    for step, (status, curr_agreement, curr_proposals) in next_step_ei:\n",
    "        result_logger.log_step(sample=i, png_path=png_path_str, seg_path=seg_path_str, step=step, method='ei', status=status, agreement=curr_agreement, proposals=curr_proposals, ground_truth=ground_truth_np)\n",
    "        print(\"\\rRunning: Sample: {}, Step: {}, Method: {}\".format(i, step, 'ei'), end='')\n",
    "    \n",
    "    if i % 10 ==1:\n",
    "        result_logger.save()\n",
    "\n",
    "result_logger.save()"
   ]
  }
 ],
 "metadata": {
  "kernelspec": {
   "display_name": "Python 3",
   "language": "python",
   "name": "python3"
  },
  "language_info": {
   "codemirror_mode": {
    "name": "ipython",
    "version": 3
   },
   "file_extension": ".py",
   "mimetype": "text/x-python",
   "name": "python",
   "nbconvert_exporter": "python",
   "pygments_lexer": "ipython3",
   "version": "3.5.2"
  }
 },
 "nbformat": 4,
 "nbformat_minor": 2
}
