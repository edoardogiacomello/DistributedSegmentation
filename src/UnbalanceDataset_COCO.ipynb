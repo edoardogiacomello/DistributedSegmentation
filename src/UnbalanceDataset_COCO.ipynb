{
 "cells": [
  {
   "cell_type": "code",
   "execution_count": 80,
   "metadata": {},
   "outputs": [],
   "source": [
    "import numpy as np\n",
    "import pandas as pd\n",
    "from PIL import Image\n",
    "import glob, os\n",
    "import seaborn as sb"
   ]
  },
  {
   "cell_type": "code",
   "execution_count": 2,
   "metadata": {},
   "outputs": [],
   "source": [
    "DATASET_PATH = 'datasets/coco_animals/train/'\n",
    "PNG_PATH = DATASET_PATH + 'png/'\n",
    "SEG_PATH = DATASET_PATH + 'seg/'\n",
    "ID_TO_LABEL = {16: 'bird',\n",
    " 17: 'cat',\n",
    " 18: 'dog',\n",
    " 19: 'horse',\n",
    " 20: 'sheep',\n",
    " 21: 'cow',\n",
    " 22: 'elephant',\n",
    " 23: 'bear',\n",
    " 24: 'zebra',\n",
    " 25: 'giraffe'}\n",
    "LABEL_TO_ID = {'bear': 23,\n",
    " 'bird': 16,\n",
    " 'cat': 17,\n",
    " 'cow': 21,\n",
    " 'dog': 18,\n",
    " 'elephant': 22,\n",
    " 'giraffe': 25,\n",
    " 'horse': 19,\n",
    " 'sheep': 20,\n",
    " 'zebra': 24 }\n",
    "ALL_LABELS = list(LABEL_TO_ID.keys())"
   ]
  },
  {
   "cell_type": "markdown",
   "metadata": {},
   "source": [
    "Pairing PNG and SEG"
   ]
  },
  {
   "cell_type": "code",
   "execution_count": 3,
   "metadata": {},
   "outputs": [],
   "source": [
    "paired = [(PNG_PATH+os.path.basename(filename), SEG_PATH+os.path.basename(filename)) for filename in glob.glob(SEG_PATH+'*.png')]"
   ]
  },
  {
   "cell_type": "code",
   "execution_count": 4,
   "metadata": {},
   "outputs": [
    {
     "data": {
      "text/plain": [
       "True"
      ]
     },
     "execution_count": 4,
     "metadata": {},
     "output_type": "execute_result"
    }
   ],
   "source": [
    "# Checking that all files exist\n",
    "all([os.path.isfile(v[0]) for v in paired])"
   ]
  },
  {
   "cell_type": "markdown",
   "metadata": {},
   "source": [
    "Checking the labels contained in each image"
   ]
  },
  {
   "cell_type": "code",
   "execution_count": 5,
   "metadata": {},
   "outputs": [
    {
     "name": "stdout",
     "output_type": "stream",
     "text": [
      "Done 23988 of 23989. Uniques: 2"
     ]
    }
   ],
   "source": [
    "src_dataset = pd.DataFrame(columns=['png', 'seg']+ ALL_LABELS)\n",
    "for i, (png, seg) in enumerate(paired):\n",
    "    new_row = {'png':png, 'seg':seg}\n",
    "    new_row.update({labn: False for labn in ALL_LABELS})\n",
    "    seg_im = Image.open(seg)\n",
    "    found_labels = np.unique(seg_im).tolist()\n",
    "    for c in found_labels:\n",
    "        if c != 0:\n",
    "            new_row[ID_TO_LABEL[c]] = True\n",
    "    src_dataset = src_dataset.append(new_row, ignore_index=True)  \n",
    "    print(\"\\rDone {} of {}. Uniques: {}\".format(i, len(paired), len(found_labels)), end=\"\")\n",
    "src_dataset['n_labels'] = src_dataset[ALL_LABELS].sum(axis=1)\n",
    "src_dataset.to_csv('datasets/COCO2017train_label_presence.csv')"
   ]
  },
  {
   "cell_type": "code",
   "execution_count": 15,
   "metadata": {},
   "outputs": [],
   "source": [
    "single_label = src_dataset[src_dataset['n_labels']==1]"
   ]
  },
  {
   "cell_type": "code",
   "execution_count": 40,
   "metadata": {},
   "outputs": [
    {
     "name": "stdout",
     "output_type": "stream",
     "text": [
      "dog         3828.0\n",
      "cat         3809.0\n",
      "bird        2659.0\n",
      "horse       2604.0\n",
      "giraffe     2188.0\n",
      "elephant    1995.0\n",
      "cow         1557.0\n",
      "zebra       1553.0\n",
      "sheep       1221.0\n",
      "bear         925.0\n",
      "dtype: float64\n"
     ]
    },
    {
     "data": {
      "text/plain": [
       "<matplotlib.axes._subplots.AxesSubplot at 0x7f44406a8c50>"
      ]
     },
     "execution_count": 40,
     "metadata": {},
     "output_type": "execute_result"
    },
    {
     "data": {
      "image/png": "[encoded data removed]",
      "text/plain": [
       "<Figure size 432x288 with 1 Axes>"
      ]
     },
     "metadata": {
      "needs_background": "light"
     },
     "output_type": "display_data"
    }
   ],
   "source": [
    "count = single_label[ALL_LABELS].sum()\n",
    "print(count.sort_values(ascending=False))\n",
    "sb.barplot(x=count.index, y=count.values)"
   ]
  },
  {
   "cell_type": "markdown",
   "metadata": {},
   "source": [
    "### Selecting top 4: Dog, Cat, Horse, Bird"
   ]
  },
  {
   "cell_type": "code",
   "execution_count": 42,
   "metadata": {},
   "outputs": [],
   "source": [
    "selected = single_label[single_label['dog'] | single_label['cat'] | single_label['horse'] | single_label['bird']][['png', 'seg', 'dog', 'cat', 'horse', 'bird']]"
   ]
  },
  {
   "cell_type": "code",
   "execution_count": 79,
   "metadata": {},
   "outputs": [],
   "source": [
    "# This is to convert the boolean columns in a single \"label\" column\n",
    "melt = selected.melt(id_vars=['png', 'seg'], var_name='label')\n",
    "labeled = melt[melt['value']][['png', 'seg', 'label']]\n",
    "labeled['label_id'] = labeled['label'].map(LABEL_TO_ID)\n",
    "labeled.to_csv('datasets/coco_animals_full_filtered.csv', index=False)"
   ]
  },
  {
   "cell_type": "code",
   "execution_count": 115,
   "metadata": {},
   "outputs": [],
   "source": [
    "def split_train_val_test(dataset, train_to_testval_ratio = 0.7, testval_ratio=0.5):\n",
    "    import math\n",
    "    ds_train = pd.DataFrame(columns=dataset.columns)\n",
    "    ds_valid = pd.DataFrame(columns=dataset.columns)\n",
    "    ds_test = pd.DataFrame(columns=dataset.columns)\n",
    "    \n",
    "    for label, ds in dataset.groupby(['label']):\n",
    "        print(\"Full Dataset - {}: {}\".format(label, len(ds)))\n",
    "        # Shuffle the group\n",
    "        ds = ds.sample(frac=1)\n",
    "        first_val_sample = math.ceil(len(ds)*train_to_testval_ratio)\n",
    "        ds_train = ds_train.append(ds.iloc[:first_val_sample])\n",
    "        testval = ds.iloc[first_val_sample:]\n",
    "        first_test_sample = math.ceil(len(testval)*testval_ratio)\n",
    "        ds_valid = ds_valid.append(testval.iloc[:first_test_sample])\n",
    "        ds_test = ds_test.append(testval.iloc[first_test_sample:])\n",
    "    \n",
    "    # Checking results\n",
    "    for label, ds in ds_train.groupby(['label']):\n",
    "        print(\"Train Dataset - {}: {}\".format(label, len(ds)))\n",
    "    for label, ds in ds_valid.groupby(['label']):\n",
    "        print(\"Validation Dataset - {}: {}\".format(label, len(ds)))\n",
    "    for label, ds in ds_test.groupby(['label']):\n",
    "        print(\"Test Dataset - {}: {}\".format(label, len(ds)))\n",
    "    \n",
    "    return ds_train, ds_valid, ds_test\n",
    "    "
   ]
  },
  {
   "cell_type": "code",
   "execution_count": 116,
   "metadata": {},
   "outputs": [
    {
     "name": "stdout",
     "output_type": "stream",
     "text": [
      "Full Dataset - bird: 2659\n",
      "Full Dataset - cat: 3809\n",
      "Full Dataset - dog: 3828\n",
      "Full Dataset - horse: 2604\n",
      "Train Dataset - bird: 1862\n",
      "Train Dataset - cat: 2667\n",
      "Train Dataset - dog: 2680\n",
      "Train Dataset - horse: 1823\n",
      "Validation Dataset - bird: 399\n",
      "Validation Dataset - cat: 571\n",
      "Validation Dataset - dog: 574\n",
      "Validation Dataset - horse: 391\n",
      "Test Dataset - bird: 398\n",
      "Test Dataset - cat: 571\n",
      "Test Dataset - dog: 574\n",
      "Test Dataset - horse: 390\n"
     ]
    }
   ],
   "source": [
    "full_dataset = pd.read_csv('datasets/coco_animals_full_filtered.csv')\n",
    "train, validation, test = split_train_val_test(full_dataset)"
   ]
  },
  {
   "cell_type": "code",
   "execution_count": 124,
   "metadata": {},
   "outputs": [
    {
     "data": {
      "text/plain": [
       "9032"
      ]
     },
     "execution_count": 124,
     "metadata": {},
     "output_type": "execute_result"
    }
   ],
   "source": [
    "len(train)"
   ]
  },
  {
   "cell_type": "code",
   "execution_count": 182,
   "metadata": {},
   "outputs": [],
   "source": [
    "# Test stratification\n",
    "def unbalance(dataset, factor=3):\n",
    "    ''' Creates a set of unbalanced datasets (one for each dataset['label'] value) in which\n",
    "    each dataset (called \"majority set for class <label>\") contains <factor> many more samples \n",
    "    than the other sets (called \"minority sets\") for that specific label.\n",
    "    If factor=1 a simple stratified splitting is performed.\n",
    "    '''\n",
    "    import math\n",
    "    labels = train['label'].unique()\n",
    "    unbalanced_ds = {l: pd.DataFrame(columns=dataset.columns) for l in labels}\n",
    "    n_labels = len(labels)\n",
    "    \n",
    "    for label, ds in dataset.groupby(['label']):\n",
    "        print(\"Total samples - {}: {}\".format(label, len(ds)))\n",
    "        # Shuffle the group\n",
    "        ds = ds.sample(frac=1)\n",
    "        \n",
    "        # Calculating the ratio for the majority set and one for the others\n",
    "        ratio_maj = factor/sum([factor]+[1]*(n_labels-1))\n",
    "        ratio_min = 1.0/sum([factor]+[1]*(n_labels-1))\n",
    "        \n",
    "        next_record_index = 0\n",
    "        for l, lab in enumerate(labels):\n",
    "            if lab==label:\n",
    "                # We are computing the majority dataset\n",
    "                final_value = next_record_index + math.floor(ratio_maj*len(ds))\n",
    "            else:\n",
    "                # Minority dataset\n",
    "                final_value = next_record_index + math.floor(ratio_min*len(ds))\n",
    "            ds_slice =ds.iloc[next_record_index:final_value]\n",
    "            unbalanced_ds[lab] = unbalanced_ds[lab].append(ds_slice)\n",
    "            print(\"Split of {} for dataset maj_{}: {}:{}. Count: {}\".format(label, lab, next_record_index, final_value, len(ds_slice)))\n",
    "            next_record_index=final_value\n",
    "    return unbalanced_ds"
   ]
  },
  {
   "cell_type": "code",
   "execution_count": 183,
   "metadata": {},
   "outputs": [
    {
     "name": "stdout",
     "output_type": "stream",
     "text": [
      "Total samples - bird: 1862\n",
      "Split of bird for dataset maj_bird: 0:931. Count: 931\n",
      "Split of bird for dataset maj_cat: 931:1241. Count: 310\n",
      "Split of bird for dataset maj_dog: 1241:1551. Count: 310\n",
      "Split of bird for dataset maj_horse: 1551:1861. Count: 310\n",
      "Total samples - cat: 2667\n",
      "Split of cat for dataset maj_bird: 0:444. Count: 444\n",
      "Split of cat for dataset maj_cat: 444:1777. Count: 1333\n",
      "Split of cat for dataset maj_dog: 1777:2221. Count: 444\n",
      "Split of cat for dataset maj_horse: 2221:2665. Count: 444\n",
      "Total samples - dog: 2680\n",
      "Split of dog for dataset maj_bird: 0:446. Count: 446\n",
      "Split of dog for dataset maj_cat: 446:892. Count: 446\n",
      "Split of dog for dataset maj_dog: 892:2232. Count: 1340\n",
      "Split of dog for dataset maj_horse: 2232:2678. Count: 446\n",
      "Total samples - horse: 1823\n",
      "Split of horse for dataset maj_bird: 0:303. Count: 303\n",
      "Split of horse for dataset maj_cat: 303:606. Count: 303\n",
      "Split of horse for dataset maj_dog: 606:909. Count: 303\n",
      "Split of horse for dataset maj_horse: 909:1820. Count: 911\n"
     ]
    }
   ],
   "source": [
    "unbalanced = unbalance(train)\n",
    "for label, dset in unbalanced.items():\n",
    "    dset.to_csv('datasets/coco_animals_train_{}.csv'.format(label),index=None)"
   ]
  },
  {
   "cell_type": "code",
   "execution_count": 195,
   "metadata": {},
   "outputs": [
    {
     "name": "stdout",
     "output_type": "stream",
     "text": [
      "Total samples - bird: 399\n",
      "Split of bird for dataset maj_bird: 0:199. Count: 199\n",
      "Split of bird for dataset maj_cat: 199:265. Count: 66\n",
      "Split of bird for dataset maj_dog: 265:331. Count: 66\n",
      "Split of bird for dataset maj_horse: 331:397. Count: 66\n",
      "Total samples - cat: 571\n",
      "Split of cat for dataset maj_bird: 0:95. Count: 95\n",
      "Split of cat for dataset maj_cat: 95:380. Count: 285\n",
      "Split of cat for dataset maj_dog: 380:475. Count: 95\n",
      "Split of cat for dataset maj_horse: 475:570. Count: 95\n",
      "Total samples - dog: 574\n",
      "Split of dog for dataset maj_bird: 0:95. Count: 95\n",
      "Split of dog for dataset maj_cat: 95:190. Count: 95\n",
      "Split of dog for dataset maj_dog: 190:477. Count: 287\n",
      "Split of dog for dataset maj_horse: 477:572. Count: 95\n",
      "Total samples - horse: 391\n",
      "Split of horse for dataset maj_bird: 0:65. Count: 65\n",
      "Split of horse for dataset maj_cat: 65:130. Count: 65\n",
      "Split of horse for dataset maj_dog: 130:195. Count: 65\n",
      "Split of horse for dataset maj_horse: 195:390. Count: 195\n"
     ]
    }
   ],
   "source": [
    "unbalanced_validation = unbalance(validation)\n",
    "for label, dset in unbalanced_validation.items():\n",
    "    dset.to_csv('datasets/coco_animals_validation_{}.csv'.format(label),index=None)"
   ]
  },
  {
   "cell_type": "code",
   "execution_count": 196,
   "metadata": {},
   "outputs": [
    {
     "name": "stdout",
     "output_type": "stream",
     "text": [
      "Total samples - bird: 398\n",
      "Split of bird for dataset maj_bird: 0:199. Count: 199\n",
      "Split of bird for dataset maj_cat: 199:265. Count: 66\n",
      "Split of bird for dataset maj_dog: 265:331. Count: 66\n",
      "Split of bird for dataset maj_horse: 331:397. Count: 66\n",
      "Total samples - cat: 571\n",
      "Split of cat for dataset maj_bird: 0:95. Count: 95\n",
      "Split of cat for dataset maj_cat: 95:380. Count: 285\n",
      "Split of cat for dataset maj_dog: 380:475. Count: 95\n",
      "Split of cat for dataset maj_horse: 475:570. Count: 95\n",
      "Total samples - dog: 574\n",
      "Split of dog for dataset maj_bird: 0:95. Count: 95\n",
      "Split of dog for dataset maj_cat: 95:190. Count: 95\n",
      "Split of dog for dataset maj_dog: 190:477. Count: 287\n",
      "Split of dog for dataset maj_horse: 477:572. Count: 95\n",
      "Total samples - horse: 390\n",
      "Split of horse for dataset maj_bird: 0:65. Count: 65\n",
      "Split of horse for dataset maj_cat: 65:130. Count: 65\n",
      "Split of horse for dataset maj_dog: 130:195. Count: 65\n",
      "Split of horse for dataset maj_horse: 195:390. Count: 195\n"
     ]
    }
   ],
   "source": [
    "unbalanced_test = unbalance(test)\n",
    "for label, dset in unbalanced_test.items():\n",
    "    dset.to_csv('datasets/coco_animals_test_{}.csv'.format(label),index=None)"
   ]
  },
  {
   "cell_type": "code",
   "execution_count": null,
   "metadata": {},
   "outputs": [],
   "source": []
  }
 ],
 "metadata": {
  "kernelspec": {
   "display_name": "Python 3",
   "language": "python",
   "name": "python3"
  },
  "language_info": {
   "codemirror_mode": {
    "name": "ipython",
    "version": 3
   },
   "file_extension": ".py",
   "mimetype": "text/x-python",
   "name": "python",
   "nbconvert_exporter": "python",
   "pygments_lexer": "ipython3",
   "version": "3.5.2"
  }
 },
 "nbformat": 4,
 "nbformat_minor": 2
}
