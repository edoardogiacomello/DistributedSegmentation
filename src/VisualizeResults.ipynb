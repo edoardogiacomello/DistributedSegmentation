{
 "cells": [
  {
   "cell_type": "code",
   "execution_count": 1,
   "metadata": {},
   "outputs": [],
   "source": [
    "import os, urllib\n",
    "from PIL import Image\n",
    "from io import BytesIO\n",
    "import numpy as np\n",
    "from skimage.io import imshow\n",
    "import matplotlib.pyplot as plt\n",
    "from matplotlib import gridspec\n",
    "plt.rcParams['figure.max_open_warning'] = False\n",
    "import pandas as pd\n",
    "import IPython\n",
    "%matplotlib inline\n",
    "from mpl_toolkits.axes_grid1 import make_axes_locatable\n",
    "from matplotlib import colors\n",
    "import DeepLabModel\n",
    "import seaborn as sb\n",
    "import pandas as pd\n",
    "from ipywidgets import FloatSlider, interact, fixed, HBox, VBox, Label, Button, Output, IntProgress, FloatProgress, fixed, IntSlider\n",
    "\n",
    "from DCSegUtils import *"
   ]
  },
  {
   "cell_type": "markdown",
   "metadata": {},
   "source": [
    "### Visualization functions"
   ]
  },
  {
   "cell_type": "code",
   "execution_count": 2,
   "metadata": {},
   "outputs": [],
   "source": [
    "\n",
    "\n",
    "def show_proposals(task, proposals):\n",
    "        plt.figure(figsize=(16,9), dpi=300)\n",
    "        # Finding all the labels that appear in the proposals for the legend\n",
    "        unique_labels = np.array([], dtype=np.int)\n",
    "        for p in proposals:\n",
    "            unique_labels = np.union1d(unique_labels, np.unique(p))\n",
    "        unique_labels = unique_labels[unique_labels!=255] # We ignore the void label (see VOC2012 docs)\n",
    "                \n",
    "        max_cols = len(proposals)+2\n",
    "\n",
    "        grid_spec = gridspec.GridSpec(1, max_cols, width_ratios= [6] + [6 for i in proposals]+ [2])\n",
    "        # Show input\n",
    "        plt.subplot(grid_spec[0])\n",
    "        plt.imshow(task)\n",
    "        plt.axis('off')\n",
    "        plt.title('Input')\n",
    "\n",
    "        for p, prop in enumerate(proposals):\n",
    "            plt.subplot(grid_spec[p+1])\n",
    "            plt.imshow(DeepLabModel.label_to_color_image(prop).astype(np.uint8))\n",
    "            plt.axis('off')\n",
    "            plt.title('Model {}'.format(p+1))\n",
    "\n",
    "        ax = plt.subplot(grid_spec[max_cols-1])\n",
    "        plt.imshow(\n",
    "            FULL_COLOR_MAP[unique_labels].astype(np.uint8), interpolation='nearest', aspect=0.3)\n",
    "        ax.yaxis.tick_right()\n",
    "        plt.yticks(range(len(unique_labels)), LABEL_NAMES[unique_labels])\n",
    "        plt.xticks([], [])\n",
    "        ax.tick_params(width=0.0)\n",
    "        plt.grid(False)\n",
    "        plt.show()\n",
    "\n",
    "def show_agreement(agreement, i, initial=None):\n",
    "        labels = [(l,LABEL_NAMES[l]) for l in range(agreement.shape[-1])]\n",
    "        if initial is None:\n",
    "            plt.figure(figsize=(16,9), dpi=300)\n",
    "            for lpos, lab in labels:\n",
    "                agr = agreement[...,lpos]\n",
    "                plt.subplot(np.ceil(np.sqrt(len(labels))), np.ceil(np.sqrt(len(labels))), lpos+1)\n",
    "                plt.title(\"Agr {}: {}\".format(i, lab))\n",
    "                #plt.set_cmap('gray')\n",
    "                plt.axis('off')\n",
    "                plt.imshow(agr)\n",
    "        else:\n",
    "            plt.figure(figsize=(3*2,21*2), dpi=400)\n",
    "            for lpos, lab in labels:\n",
    "                agr = agreement[...,lpos]\n",
    "                ini = initial[...,lpos]\n",
    "                diff = agr-ini\n",
    "                \n",
    "                # Normalize the colormap\n",
    "                cmax = max(np.max(agr), np.max(ini))\n",
    "                cmin = min(np.min(agr), np.min(ini))\n",
    "                norm = colors.Normalize(vmin=cmin, vmax=cmax)\n",
    "                \n",
    "                plt.subplot(np.ceil(len(labels)), 3, lpos*3+1)\n",
    "                plt.title(\"Agr 0: {}\".format(lab))\n",
    "                #plt.set_cmap('gray')\n",
    "                plt.axis('off')\n",
    "                im = plt.imshow(ini)\n",
    "                im.set_norm(norm)\n",
    "                cb = plt.colorbar(im,fraction=0.046, pad=0.04)\n",
    "                cb.ax.tick_params(labelsize='xx-small')\n",
    "                \n",
    "                plt.subplot(np.ceil(len(labels)), 3, lpos*3+2)\n",
    "                plt.title(\"{}\".format(i))\n",
    "                #plt.set_cmap('gray')\n",
    "                plt.axis('off')\n",
    "                im = plt.imshow(agr)\n",
    "                im.set_norm(norm)\n",
    "                cb = plt.colorbar(im,fraction=0.046, pad=0.04)\n",
    "                cb.ax.tick_params(labelsize='xx-small')\n",
    "                \n",
    "                plt.subplot(np.ceil(len(labels)), 3, lpos*3+3)\n",
    "                plt.title(\"Diff\")\n",
    "                #plt.set_cmap('gray')\n",
    "                plt.axis('off')\n",
    "                im = plt.imshow(diff)\n",
    "                cb = plt.colorbar(im,fraction=0.046, pad=0.04)\n",
    "                cb.ax.tick_params(labelsize='xx-small')\n",
    "\n",
    "def plot_segmentations(agreements, proposals, step, im_alpha=1.0, seg_alpha=0.7, task=None, save_to=None):\n",
    "    ''' given an array of agreements of shape [h, w, labels], proposals of shape [agent, h, w, labels]\n",
    "    and an optional Task image, shows the predictions of the various agents '''\n",
    "    \n",
    "    max_cols = 1 + proposals.shape[1]\n",
    "    \n",
    "    grid_spec = gridspec.GridSpec(2, max_cols)\n",
    "    fig = plt.figure(figsize=(25, 10))\n",
    "    for row, j in enumerate((0, step)):\n",
    "        for i in range(max_cols):\n",
    "            plt.subplot(grid_spec[row,i])\n",
    "            plt.axis('off')\n",
    "            title = 'Agreement at step {}'.format(j) if i == max_cols-1 else \"Agent {} Proposal at step {}\".format(i+1, j)\n",
    "            plt.title(title)\n",
    "            if task is not None:\n",
    "                plt.imshow(task, alpha=im_alpha)\n",
    "\n",
    "            if i==max_cols-1:\n",
    "                preds = DeepLabModel.label_to_color_image(np.argmax(agreements[j], axis=-1))\n",
    "            else:\n",
    "                preds = DeepLabModel.label_to_color_image(np.argmax(proposals[j,i,...], axis=-1))\n",
    "\n",
    "            # Removing black from the label\n",
    "            preds = np.dstack((preds, np.any(preds != [0, 0, 0], axis=-1)*255))\n",
    "\n",
    "            plt.imshow(preds, alpha=seg_alpha)\n",
    "    plt.tight_layout()\n",
    "    return fig\n",
    "\n",
    "\n",
    "\n",
    "        \n",
    "def view_proposals_tsne(label_id, proposals, agreements=None):\n",
    "    from sklearn.manifold import TSNE\n",
    "    from sklearn.decomposition import PCA\n",
    "    def merge_to_dataframe(label_id, proposals, agreements=None):\n",
    "        ''' Gets a list of proposals and a list of agreements and merge them in a single dataframe. The agreement will be encoded as an agent with id -1'''\n",
    "\n",
    "        P=np.array(proposals)[...,label_id] # P(roposal) has shape [steps, agents, h, w, label], picking one label\n",
    "        P=np.transpose(P, axes=[1,0,2,3]) # now has shape [agents, steps, h, w, 1]\n",
    "        P=P.reshape(P.shape[0], MAX_STEPS, -1) # now has shape [agents, steps, h*w]\n",
    "        feat_cols = ['pixel'+str(i) for i in range(P.shape[-1])]\n",
    "        if agreements is not None:\n",
    "            A=np.array(agreements)[...,label_id] # A[greements] has shape [steps, h, w, label], picking one label\n",
    "            A=np.expand_dims(A, axis=0) # now has shape [1 (agent), steps, h, w, 1]\n",
    "            A=A.reshape(A.shape[0], MAX_STEPS, -1) # now has shape [1, steps, h*w]\n",
    "\n",
    "        frames = list()\n",
    "        if agreements is not None:\n",
    "            # First we create a dataframe for the agreement, treating it as a fake agent\n",
    "            df = pd.DataFrame(A[0], columns=feat_cols).rename_axis([\"step\"])\n",
    "            df = df.reset_index()\n",
    "            df['agent']=-1\n",
    "            frames.append(df)\n",
    "        # Do the same for each agent proposal\n",
    "        for agentid, proposal in enumerate(P):\n",
    "            df = pd.DataFrame(proposal, columns=feat_cols).rename_axis([\"step\"])\n",
    "            df = df.reset_index()\n",
    "            df['agent']=agentid\n",
    "            frames.append(df)\n",
    "        # Merging the dataframes into a single one\n",
    "        df = frames[0]\n",
    "        for f, fr in enumerate(frames):\n",
    "            if f==0:\n",
    "                continue\n",
    "            df = df.append(fr)\n",
    "            \n",
    "        return df, feat_cols\n",
    "\n",
    "    df, cols = merge_to_dataframe(label_id, proposals, agreements)\n",
    "    \n",
    "    pca = PCA(n_components=3)\n",
    "    pca_result = pca.fit_transform(df[cols].values)\n",
    "\n",
    "    df['pca-one'] = pca_result[:,0]\n",
    "    df['pca-two'] = pca_result[:,1] \n",
    "    df['pca-three'] = pca_result[:,2]\n",
    "\n",
    "    print('Explained variation per principal component: {}'.format(pca.explained_variance_ratio_))\n",
    "    \n",
    "    \n",
    "    tsne = TSNE(n_components=2, verbose=1, perplexity=40, n_iter=300)\n",
    "    tsne_results = tsne.fit_transform(df[['pca-one', 'pca-two', 'pca-three']].values)\n",
    "\n",
    "    print('t-SNE done!')\n",
    "    df['tsne-2d-one'] = tsne_results[:,0]\n",
    "    df['tsne-2d-two'] = tsne_results[:,1]\n",
    "\n",
    "    plt.figure(figsize=(16,10))\n",
    "\n",
    "    sb.lineplot(\n",
    "        x=\"tsne-2d-one\", y=\"tsne-2d-two\",\n",
    "        hue=\"agent\",\n",
    "        palette=sb.color_palette(\"hls\", proposals[0].shape[0] if agreements is None else 1 + proposals[0].shape[0]),\n",
    "        data=df,\n",
    "        legend=\"full\",\n",
    "        sort=False\n",
    "    )"
   ]
  },
  {
   "cell_type": "code",
   "execution_count": 3,
   "metadata": {},
   "outputs": [],
   "source": [
    "def plot_proposals_means(proposals, agreements, show_only_labels=None):\n",
    "    '''Show the mean probability in each step (x-axis) for each method (columns) and label (rows).\n",
    "    :params show_only_labels: List(str) or None. If present, only plots the requested labels. '''\n",
    "    # Merge the agreements as a proposal agent\n",
    "    pd_means = pd.DataFrame() # This will contain all the proposals/agreements means for each method, agent and label\n",
    "    \n",
    "    for method in agreements.keys():\n",
    "        props = proposals[method]\n",
    "        agree = agreements[method]\n",
    "        # props is (steps, agent, h, w, labels), agree is (steps, h, w, labels)\n",
    "        agree = np.expand_dims(agree, 1)\n",
    "        props = np.mean(props, axis=(2, 3))\n",
    "        agree = np.mean(agree, axis=(2, 3))\n",
    "        props = np.transpose(props, axes=(1,0,2))\n",
    "        agree = np.transpose(agree, axes=(1,0,2))\n",
    "        method_pd = pd.DataFrame() # This DF will contain all the agreement/proposals for all agents, steps (rows) and labels (cols)\n",
    "        cols = ['mean'+str(i) for i in range(props.shape[-1])]\n",
    "        for agr in agree:\n",
    "            df = pd.DataFrame(agr, columns=cols).rename_axis([\"step\"])\n",
    "            df = df.reset_index()\n",
    "            df['agent'] = 'agreement'\n",
    "            method_pd = method_pd.append(df)\n",
    "        for p, pro in enumerate(props):\n",
    "            df = pd.DataFrame(pro, columns=cols).rename_axis([\"step\"])\n",
    "            df = df.reset_index()\n",
    "            df['agent'] = 'agent {}'.format(p)\n",
    "            method_pd = method_pd.append(df)\n",
    "        method_pd['method'] = method\n",
    "        pd_means = pd_means.append(method_pd)\n",
    "    \n",
    "    # Moves each column to a new index, then move back to a column to obtain the columns: (method, agent, step, label, mean)\n",
    "    mean_long = pd.wide_to_long(pd_means, [\"mean\"], i=[\"step\", \"method\", \"agent\"], j=\"label\").reset_index(level=[\"step\", \"method\", \"agent\", \"label\"])\n",
    "\n",
    "    # Rename each label to its name for redibility\n",
    "    mean_long['label'] = LABEL_NAMES[mean_long['label'].values]\n",
    "    \n",
    "    if show_only_labels is not None:\n",
    "        mean_long = mean_long[mean_long['label'].isin(show_only_labels)]\n",
    "    \n",
    "    plot = sb.relplot(data=mean_long, x='step', y='mean', kind='line', hue='agent', col='method', style='agent', row='label', facet_kws={'sharey':'row'}, ci=None)\n",
    "    return plot\n",
    "\n",
    "\n"
   ]
  },
  {
   "cell_type": "markdown",
   "metadata": {},
   "source": [
    "## Load results\n",
    "Generated from Negotiation"
   ]
  },
  {
   "cell_type": "code",
   "execution_count": 4,
   "metadata": {},
   "outputs": [],
   "source": [
    "agreements = {method: np.load('results/agreements_{}.npy'.format(method)) for method in ['v']}\n",
    "proposals = {method: np.load('results/proposals_{}.npy'.format(method)) for method in ['v']}"
   ]
  },
  {
   "cell_type": "markdown",
   "metadata": {},
   "source": [
    "### Initial proposals of the agents\n",
    "converted to segmentations"
   ]
  },
  {
   "cell_type": "code",
   "execution_count": 5,
   "metadata": {},
   "outputs": [],
   "source": [
    "#train_bw = 'https://farm9.staticflickr.com/8401/10174115513_13c3650c08_z.jpg'\n",
    "train_cake = 'http://farm6.staticflickr.com/5165/5379358886_eee5b992ee_z.jpg'\n",
    "url = train_cake\n",
    "f = urllib.request.urlopen(url)\n",
    "jpeg_str = f.read()\n",
    "original_im = Image.open(BytesIO(jpeg_str))\n",
    "original_im = original_im.resize((agreements['v'][0].shape[1], agreements['v'][0].shape[0]))"
   ]
  },
  {
   "cell_type": "code",
   "execution_count": 6,
   "metadata": {},
   "outputs": [
    {
     "ename": "ValueError",
     "evalue": "None cannot be transformed to a widget",
     "output_type": "error",
     "traceback": [
      "\u001b[0;31m--------------------------------------------------\u001b[0m",
      "\u001b[0;31mValueError\u001b[0m       Traceback (most recent call last)",
      "\u001b[0;32m<ipython-input-6-dca2fd90d4c0>\u001b[0m in \u001b[0;36m<module>\u001b[0;34m\u001b[0m\n\u001b[0;32m----> 1\u001b[0;31m \u001b[0minteract\u001b[0m\u001b[0;34m(\u001b[0m\u001b[0mplot_segmentations\u001b[0m\u001b[0;34m,\u001b[0m \u001b[0magreements\u001b[0m\u001b[0;34m=\u001b[0m\u001b[0mfixed\u001b[0m\u001b[0;34m(\u001b[0m\u001b[0magreements\u001b[0m\u001b[0;34m[\u001b[0m\u001b[0;34m'v'\u001b[0m\u001b[0;34m]\u001b[0m\u001b[0;34m)\u001b[0m\u001b[0;34m,\u001b[0m \u001b[0mproposals\u001b[0m\u001b[0;34m=\u001b[0m\u001b[0mfixed\u001b[0m\u001b[0;34m(\u001b[0m\u001b[0mproposals\u001b[0m\u001b[0;34m[\u001b[0m\u001b[0;34m'v'\u001b[0m\u001b[0;34m]\u001b[0m\u001b[0;34m)\u001b[0m\u001b[0;34m,\u001b[0m \u001b[0mstep\u001b[0m\u001b[0;34m=\u001b[0m\u001b[0mIntSlider\u001b[0m\u001b[0;34m(\u001b[0m\u001b[0mmax\u001b[0m\u001b[0;34m=\u001b[0m\u001b[0;36m49\u001b[0m\u001b[0;34m)\u001b[0m\u001b[0;34m,\u001b[0m \u001b[0mim_alpha\u001b[0m\u001b[0;34m=\u001b[0m\u001b[0mFloatSlider\u001b[0m\u001b[0;34m(\u001b[0m\u001b[0mvalue\u001b[0m\u001b[0;34m=\u001b[0m\u001b[0;36m1.0\u001b[0m\u001b[0;34m,\u001b[0m \u001b[0mmin\u001b[0m\u001b[0;34m=\u001b[0m\u001b[0;36m0\u001b[0m\u001b[0;34m,\u001b[0m \u001b[0mmax\u001b[0m\u001b[0;34m=\u001b[0m\u001b[0;36m1.0\u001b[0m\u001b[0;34m)\u001b[0m\u001b[0;34m,\u001b[0m \u001b[0mseg_alpha\u001b[0m\u001b[0;34m=\u001b[0m\u001b[0mFloatSlider\u001b[0m\u001b[0;34m(\u001b[0m\u001b[0mvalue\u001b[0m\u001b[0;34m=\u001b[0m\u001b[0;36m0.7\u001b[0m\u001b[0;34m,\u001b[0m \u001b[0mmin\u001b[0m\u001b[0;34m=\u001b[0m\u001b[0;36m0\u001b[0m\u001b[0;34m,\u001b[0m \u001b[0mmax\u001b[0m\u001b[0;34m=\u001b[0m\u001b[0;36m1.0\u001b[0m\u001b[0;34m)\u001b[0m\u001b[0;34m,\u001b[0m \u001b[0mtask\u001b[0m\u001b[0;34m=\u001b[0m\u001b[0mfixed\u001b[0m\u001b[0;34m(\u001b[0m\u001b[0moriginal_im\u001b[0m\u001b[0;34m)\u001b[0m\u001b[0;34m)\u001b[0m\u001b[0;34m\u001b[0m\u001b[0m\n\u001b[0m",
      "\u001b[0;32m/usr/local/lib/python3.5/dist-packages/ipywidgets/widgets/interaction.py\u001b[0m in \u001b[0;36m__call__\u001b[0;34m(self, _InteractFactory__interact_f, **kwargs)\u001b[0m\n\u001b[1;32m    521\u001b[0m         \u001b[0;31m#    def f(*args, **kwargs):\u001b[0m\u001b[0;34m\u001b[0m\u001b[0;34m\u001b[0m\u001b[0m\n\u001b[1;32m    522\u001b[0m         \u001b[0;31m#        ...\u001b[0m\u001b[0;34m\u001b[0m\u001b[0;34m\u001b[0m\u001b[0m\n\u001b[0;32m--> 523\u001b[0;31m         \u001b[0mw\u001b[0m \u001b[0;34m=\u001b[0m \u001b[0mself\u001b[0m\u001b[0;34m.\u001b[0m\u001b[0mwidget\u001b[0m\u001b[0;34m(\u001b[0m\u001b[0mf\u001b[0m\u001b[0;34m)\u001b[0m\u001b[0;34m\u001b[0m\u001b[0m\n\u001b[0m\u001b[1;32m    524\u001b[0m         \u001b[0;32mtry\u001b[0m\u001b[0;34m:\u001b[0m\u001b[0;34m\u001b[0m\u001b[0m\n\u001b[1;32m    525\u001b[0m             \u001b[0mf\u001b[0m\u001b[0;34m.\u001b[0m\u001b[0mwidget\u001b[0m \u001b[0;34m=\u001b[0m \u001b[0mw\u001b[0m\u001b[0;34m\u001b[0m\u001b[0m\n",
      "\u001b[0;32m/usr/local/lib/python3.5/dist-packages/ipywidgets/widgets/interaction.py\u001b[0m in \u001b[0;36mwidget\u001b[0;34m(self, f)\u001b[0m\n\u001b[1;32m    437\u001b[0m             \u001b[0mThe\u001b[0m \u001b[0mfunction\u001b[0m \u001b[0mto\u001b[0m \u001b[0mwhich\u001b[0m \u001b[0mthe\u001b[0m \u001b[0minteractive\u001b[0m \u001b[0mwidgets\u001b[0m \u001b[0mare\u001b[0m \u001b[0mtied\u001b[0m\u001b[0;34m.\u001b[0m\u001b[0;34m\u001b[0m\u001b[0m\n\u001b[1;32m    438\u001b[0m         \"\"\"\n\u001b[0;32m--> 439\u001b[0;31m         \u001b[0;32mreturn\u001b[0m \u001b[0mself\u001b[0m\u001b[0;34m.\u001b[0m\u001b[0mcls\u001b[0m\u001b[0;34m(\u001b[0m\u001b[0mf\u001b[0m\u001b[0;34m,\u001b[0m \u001b[0mself\u001b[0m\u001b[0;34m.\u001b[0m\u001b[0mopts\u001b[0m\u001b[0;34m,\u001b[0m \u001b[0;34m**\u001b[0m\u001b[0mself\u001b[0m\u001b[0;34m.\u001b[0m\u001b[0mkwargs\u001b[0m\u001b[0;34m)\u001b[0m\u001b[0;34m\u001b[0m\u001b[0m\n\u001b[0m\u001b[1;32m    440\u001b[0m \u001b[0;34m\u001b[0m\u001b[0m\n\u001b[1;32m    441\u001b[0m     \u001b[0;32mdef\u001b[0m \u001b[0m__call__\u001b[0m\u001b[0;34m(\u001b[0m\u001b[0mself\u001b[0m\u001b[0;34m,\u001b[0m \u001b[0m__interact_f\u001b[0m\u001b[0;34m=\u001b[0m\u001b[0;32mNone\u001b[0m\u001b[0;34m,\u001b[0m \u001b[0;34m**\u001b[0m\u001b[0mkwargs\u001b[0m\u001b[0;34m)\u001b[0m\u001b[0;34m:\u001b[0m\u001b[0;34m\u001b[0m\u001b[0m\n",
      "\u001b[0;32m/usr/local/lib/python3.5/dist-packages/ipywidgets/widgets/interaction.py\u001b[0m in \u001b[0;36m__init__\u001b[0;34m(self, _interactive__interact_f, _interactive__options, **kwargs)\u001b[0m\n\u001b[1;32m    193\u001b[0m             \u001b[0mgetcallargs\u001b[0m\u001b[0;34m(\u001b[0m\u001b[0mf\u001b[0m\u001b[0;34m,\u001b[0m \u001b[0;34m**\u001b[0m\u001b[0;34m{\u001b[0m\u001b[0mn\u001b[0m\u001b[0;34m:\u001b[0m\u001b[0mv\u001b[0m \u001b[0;32mfor\u001b[0m \u001b[0mn\u001b[0m\u001b[0;34m,\u001b[0m\u001b[0mv\u001b[0m\u001b[0;34m,\u001b[0m\u001b[0m_\u001b[0m \u001b[0;32min\u001b[0m \u001b[0mnew_kwargs\u001b[0m\u001b[0;34m}\u001b[0m\u001b[0;34m)\u001b[0m\u001b[0;34m\u001b[0m\u001b[0m\n\u001b[1;32m    194\u001b[0m         \u001b[0;31m# Now build the widgets from the abbreviations.\u001b[0m\u001b[0;34m\u001b[0m\u001b[0;34m\u001b[0m\u001b[0m\n\u001b[0;32m--> 195\u001b[0;31m         \u001b[0mself\u001b[0m\u001b[0;34m.\u001b[0m\u001b[0mkwargs_widgets\u001b[0m \u001b[0;34m=\u001b[0m \u001b[0mself\u001b[0m\u001b[0;34m.\u001b[0m\u001b[0mwidgets_from_abbreviations\u001b[0m\u001b[0;34m(\u001b[0m\u001b[0mnew_kwargs\u001b[0m\u001b[0;34m)\u001b[0m\u001b[0;34m\u001b[0m\u001b[0m\n\u001b[0m\u001b[1;32m    196\u001b[0m \u001b[0;34m\u001b[0m\u001b[0m\n\u001b[1;32m    197\u001b[0m         \u001b[0;31m# This has to be done as an assignment, not using self.children.append,\u001b[0m\u001b[0;34m\u001b[0m\u001b[0;34m\u001b[0m\u001b[0m\n",
      "\u001b[0;32m/usr/local/lib/python3.5/dist-packages/ipywidgets/widgets/interaction.py\u001b[0m in \u001b[0;36mwidgets_from_abbreviations\u001b[0;34m(self, seq)\u001b[0m\n\u001b[1;32m    293\u001b[0m             \u001b[0;32mif\u001b[0m \u001b[0;32mnot\u001b[0m \u001b[0;34m(\u001b[0m\u001b[0misinstance\u001b[0m\u001b[0;34m(\u001b[0m\u001b[0mwidget\u001b[0m\u001b[0;34m,\u001b[0m \u001b[0mValueWidget\u001b[0m\u001b[0;34m)\u001b[0m \u001b[0;32mor\u001b[0m \u001b[0misinstance\u001b[0m\u001b[0;34m(\u001b[0m\u001b[0mwidget\u001b[0m\u001b[0;34m,\u001b[0m \u001b[0mfixed\u001b[0m\u001b[0;34m)\u001b[0m\u001b[0;34m)\u001b[0m\u001b[0;34m:\u001b[0m\u001b[0;34m\u001b[0m\u001b[0m\n\u001b[1;32m    294\u001b[0m                 \u001b[0;32mif\u001b[0m \u001b[0mwidget\u001b[0m \u001b[0;32mis\u001b[0m \u001b[0;32mNone\u001b[0m\u001b[0;34m:\u001b[0m\u001b[0;34m\u001b[0m\u001b[0m\n\u001b[0;32m--> 295\u001b[0;31m                     \u001b[0;32mraise\u001b[0m \u001b[0mValueError\u001b[0m\u001b[0;34m(\u001b[0m\u001b[0;34m\"{!r} cannot be transformed to a widget\"\u001b[0m\u001b[0;34m.\u001b[0m\u001b[0mformat\u001b[0m\u001b[0;34m(\u001b[0m\u001b[0mabbrev\u001b[0m\u001b[0;34m)\u001b[0m\u001b[0;34m)\u001b[0m\u001b[0;34m\u001b[0m\u001b[0m\n\u001b[0m\u001b[1;32m    296\u001b[0m                 \u001b[0;32melse\u001b[0m\u001b[0;34m:\u001b[0m\u001b[0;34m\u001b[0m\u001b[0m\n\u001b[1;32m    297\u001b[0m                     \u001b[0;32mraise\u001b[0m \u001b[0mTypeError\u001b[0m\u001b[0;34m(\u001b[0m\u001b[0;34m\"{!r} is not a ValueWidget\"\u001b[0m\u001b[0;34m.\u001b[0m\u001b[0mformat\u001b[0m\u001b[0;34m(\u001b[0m\u001b[0mwidget\u001b[0m\u001b[0;34m)\u001b[0m\u001b[0;34m)\u001b[0m\u001b[0;34m\u001b[0m\u001b[0m\n",
      "\u001b[0;31mValueError\u001b[0m: None cannot be transformed to a widget"
     ]
    }
   ],
   "source": [
    "interact(plot_segmentations, agreements=fixed(agreements['v']), proposals=fixed(proposals['v']), step=IntSlider(max=49), im_alpha=FloatSlider(value=1.0, min=0, max=1.0), seg_alpha=FloatSlider(value=0.7, min=0, max=1.0), task=fixed(original_im))"
   ]
  },
  {
   "cell_type": "code",
   "execution_count": null,
   "metadata": {},
   "outputs": [],
   "source": [
    "os.makedirs('results/gif/', exist_ok=True)\n",
    "for i in range(50):\n",
    "    plot_segmentations(agreements['v'], proposals['v'], step=i, task=original_im, im_alpha=0, seg_alpha=1.0).savefig('results/gif/{}.png'.format(i))"
   ]
  },
  {
   "cell_type": "markdown",
   "metadata": {},
   "source": [
    "### Initial and final Agreement (Segmentation)"
   ]
  },
  {
   "cell_type": "code",
   "execution_count": null,
   "metadata": {},
   "outputs": [],
   "source": [
    "show_agreement(agreements_v[-1], MAX_STEPS, initial=agreements_v[0])"
   ]
  },
  {
   "cell_type": "markdown",
   "metadata": {},
   "source": [
    "## Dynamic comparison"
   ]
  },
  {
   "cell_type": "code",
   "execution_count": 7,
   "metadata": {},
   "outputs": [
    {
     "ename": "NameError",
     "evalue": "name 'LABEL_NAMES' is not defined",
     "output_type": "error",
     "traceback": [
      "\u001b[0;31m--------------------------------------------------\u001b[0m",
      "\u001b[0;31mNameError\u001b[0m        Traceback (most recent call last)",
      "\u001b[0;32m<ipython-input-7-60f68bdbe4bd>\u001b[0m in \u001b[0;36m<module>\u001b[0;34m\u001b[0m\n\u001b[0;32m----> 1\u001b[0;31m \u001b[0mplot_proposals_means\u001b[0m\u001b[0;34m(\u001b[0m\u001b[0mproposals\u001b[0m\u001b[0;34m,\u001b[0m \u001b[0magreements\u001b[0m\u001b[0;34m,\u001b[0m \u001b[0mshow_only_labels\u001b[0m\u001b[0;34m=\u001b[0m\u001b[0;34m[\u001b[0m\u001b[0;34m'bird'\u001b[0m\u001b[0;34m,\u001b[0m \u001b[0;34m'dog'\u001b[0m\u001b[0;34m,\u001b[0m \u001b[0;34m'cat'\u001b[0m\u001b[0;34m,\u001b[0m \u001b[0;34m'horse'\u001b[0m\u001b[0;34m]\u001b[0m\u001b[0;34m)\u001b[0m\u001b[0;34m\u001b[0m\u001b[0m\n\u001b[0m",
      "\u001b[0;32m<ipython-input-3-3bfd1fb3750e>\u001b[0m in \u001b[0;36mplot_proposals_means\u001b[0;34m(proposals, agreements, show_only_labels)\u001b[0m\n\u001b[1;32m     33\u001b[0m \u001b[0;34m\u001b[0m\u001b[0m\n\u001b[1;32m     34\u001b[0m     \u001b[0;31m# Rename each label to its name for redibility\u001b[0m\u001b[0;34m\u001b[0m\u001b[0;34m\u001b[0m\u001b[0m\n\u001b[0;32m---> 35\u001b[0;31m     \u001b[0mmean_long\u001b[0m\u001b[0;34m[\u001b[0m\u001b[0;34m'label'\u001b[0m\u001b[0;34m]\u001b[0m \u001b[0;34m=\u001b[0m \u001b[0mLABEL_NAMES\u001b[0m\u001b[0;34m[\u001b[0m\u001b[0mmean_long\u001b[0m\u001b[0;34m[\u001b[0m\u001b[0;34m'label'\u001b[0m\u001b[0;34m]\u001b[0m\u001b[0;34m.\u001b[0m\u001b[0mvalues\u001b[0m\u001b[0;34m]\u001b[0m\u001b[0;34m\u001b[0m\u001b[0m\n\u001b[0m\u001b[1;32m     36\u001b[0m \u001b[0;34m\u001b[0m\u001b[0m\n\u001b[1;32m     37\u001b[0m     \u001b[0;32mif\u001b[0m \u001b[0mshow_only_labels\u001b[0m \u001b[0;32mis\u001b[0m \u001b[0;32mnot\u001b[0m \u001b[0;32mNone\u001b[0m\u001b[0;34m:\u001b[0m\u001b[0;34m\u001b[0m\u001b[0m\n",
      "\u001b[0;31mNameError\u001b[0m: name 'LABEL_NAMES' is not defined"
     ]
    }
   ],
   "source": [
    "plot_proposals_means(proposals, agreements, show_only_labels=['bird', 'dog', 'cat', 'horse'])\n"
   ]
  },
  {
   "cell_type": "code",
   "execution_count": null,
   "metadata": {},
   "outputs": [],
   "source": [
    "# TODO: Se passo a TSNE solo le colonne dei pixel ottengo risultati molto più disordinati rispetto ad avere anche l'indice dell'agente\n",
    "# TODO: Aggiungi marker di inizio e fine negoziazione"
   ]
  },
  {
   "cell_type": "code",
   "execution_count": null,
   "metadata": {},
   "outputs": [],
   "source": [
    "view_proposals_tsne(19, proposals_v)"
   ]
  }
 ],
 "metadata": {
  "kernelspec": {
   "display_name": "Python 3",
   "language": "python",
   "name": "python3"
  },
  "language_info": {
   "codemirror_mode": {
    "name": "ipython",
    "version": 3
   },
   "file_extension": ".py",
   "mimetype": "text/x-python",
   "name": "python",
   "nbconvert_exporter": "python",
   "pygments_lexer": "ipython3",
   "version": "3.5.2"
  }
 },
 "nbformat": 4,
 "nbformat_minor": 2
}
