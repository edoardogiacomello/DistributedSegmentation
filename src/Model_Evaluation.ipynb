{
 "cells": [
  {
   "cell_type": "code",
   "execution_count": 1,
   "metadata": {},
   "outputs": [],
   "source": [
    "MODEL_OUT_FOLDER = 'models/'\n",
    "ID_TO_LABEL = {16: 'bird', 17: 'cat', 18: 'dog', 19: 'horse'}\n",
    "LABEL_TO_ID = {'bird': 16, 'cat': 17, 'dog': 18, 'horse': 19}\n",
    "CHANNEL_ORDER = [0, 16, 17, 18, 19] # Order of channels in output segmentation and corresponding dataset labels\n",
    "CHANNEL_NAMES = [ID_TO_LABEL[i] if i!=0 else 'other' for i in CHANNEL_ORDER]\n",
    "ALL_LABELS = list(LABEL_TO_ID.keys())\n",
    "ds_csv_paths = {dset: {label: 'datasets/coco_animals_{}_{}.csv'.format(dset, label) for label in ALL_LABELS} for dset in ['train', 'validation', 'test']}"
   ]
  },
  {
   "cell_type": "code",
   "execution_count": 2,
   "metadata": {},
   "outputs": [
    {
     "data": {
      "text/plain": [
       "{'test': {'bird': 'datasets/coco_animals_test_bird.csv',\n",
       "  'cat': 'datasets/coco_animals_test_cat.csv',\n",
       "  'dog': 'datasets/coco_animals_test_dog.csv',\n",
       "  'horse': 'datasets/coco_animals_test_horse.csv'},\n",
       " 'train': {'bird': 'datasets/coco_animals_train_bird.csv',\n",
       "  'cat': 'datasets/coco_animals_train_cat.csv',\n",
       "  'dog': 'datasets/coco_animals_train_dog.csv',\n",
       "  'horse': 'datasets/coco_animals_train_horse.csv'},\n",
       " 'validation': {'bird': 'datasets/coco_animals_validation_bird.csv',\n",
       "  'cat': 'datasets/coco_animals_validation_cat.csv',\n",
       "  'dog': 'datasets/coco_animals_validation_dog.csv',\n",
       "  'horse': 'datasets/coco_animals_validation_horse.csv'}}"
      ]
     },
     "execution_count": 2,
     "metadata": {},
     "output_type": "execute_result"
    }
   ],
   "source": [
    "ds_csv_paths"
   ]
  },
  {
   "cell_type": "code",
   "execution_count": null,
   "metadata": {},
   "outputs": [],
   "source": []
  }
 ],
 "metadata": {
  "kernelspec": {
   "display_name": "Python 3",
   "language": "python",
   "name": "python3"
  },
  "language_info": {
   "codemirror_mode": {
    "name": "ipython",
    "version": 3
   },
   "file_extension": ".py",
   "mimetype": "text/x-python",
   "name": "python",
   "nbconvert_exporter": "python",
   "pygments_lexer": "ipython3",
   "version": "3.5.2"
  }
 },
 "nbformat": 4,
 "nbformat_minor": 2
}
