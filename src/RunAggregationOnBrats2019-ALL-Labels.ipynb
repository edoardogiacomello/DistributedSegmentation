{
 "cells": [
  {
   "cell_type": "code",
   "execution_count": 7,
   "metadata": {
    "scrolled": true
   },
   "outputs": [],
   "source": [
    "import pandas as pd\n",
    "import matplotlib.pyplot as plt\n",
    "import numpy as np\n",
    "import NegotiationTools as negtools\n",
    "from NegotiationConfigNeuralNet import *\n",
    "import os\n",
    "import glob\n",
    "import imageio\n",
    "import Experiments as exp\n",
    "import tensorflow as tf\n",
    "from itertools import groupby\n",
    "\n",
    "from multiprocessing import Pool\n",
    "\n",
    "PRED_PATH = 'predictions/brats2019v2_testing/'\n",
    "RESULT_PATH = 'results/brats2019v2_testing/'\n",
    "os.makedirs(RESULT_PATH, exist_ok=True)\n",
    "os.makedirs(RESULT_PATH+'csv/', exist_ok=True)\n",
    "GT_LIST = sorted(glob.glob(PRED_PATH+'GT/*')) # Here the files are forted by SAMPLE but not by SLICE\n",
    "\n",
    "AGENTS = [\n",
    " 'Segan_IO_TF2_brats2019v2_ALL_ED',\n",
    " 'Segan_IO_TF2_brats2019v2_ALL_ET',\n",
    " 'Segan_IO_TF2_brats2019v2_ALL_NCRNET'\n",
    "]\n",
    "\n"
   ]
  },
  {
   "cell_type": "code",
   "execution_count": 8,
   "metadata": {},
   "outputs": [],
   "source": [
    "def run_thread(input_tuple):\n",
    "    print(\"Running thread for slice {}: {} {}\".format(input_tuple[0], input_tuple[1].shape, input_tuple[2].shape))\n",
    "    result = exp.run_experiment_on_list(proposals_list=[input_tuple[1]], gt_list=[input_tuple[2]], return_mean=False, agent_names=AGENTS, label_names=['Negative', 'Positive'], return_outputs=True, MAX_STEPS=10)\n",
    "    result[0]['sample_id'] = input_tuple[0]\n",
    "    print(\"thread {} finished\".format(input_tuple[0]))\n",
    "    return 1\n",
    "    "
   ]
  },
  {
   "cell_type": "code",
   "execution_count": 9,
   "metadata": {},
   "outputs": [],
   "source": [
    "for sample_id, gt_paths_group in groupby(GT_LIST, key=lambda x: int(os.path.basename(x).replace('.npy', '').split('_')[0])):\n",
    "    gt_slice_paths = sorted(list(gt_paths_group), key=lambda x: int(os.path.basename(x).replace('.npy', '').split('_')[-1]))\n",
    "\n",
    "    prediction_slices = list()\n",
    "    gt_slices = list()\n",
    "    for gt_sp in gt_slice_paths:\n",
    "        prediction = list()\n",
    "        for agent in AGENTS:\n",
    "            break\n",
    "    break"
   ]
  },
  {
   "cell_type": "code",
   "execution_count": 10,
   "metadata": {},
   "outputs": [],
   "source": [
    "pred_binary = np.load(gt_sp.replace('/GT/', '/{}/'.format(agent)))"
   ]
  },
  {
   "cell_type": "code",
   "execution_count": 12,
   "metadata": {},
   "outputs": [
    {
     "data": {
      "text/plain": [
       "(160, 160, 1)"
      ]
     },
     "execution_count": 12,
     "metadata": {},
     "output_type": "execute_result"
    }
   ],
   "source": [
    "pred_binary.shape"
   ]
  },
  {
   "cell_type": "code",
   "execution_count": 13,
   "metadata": {},
   "outputs": [],
   "source": [
    "gt_binary = np.load(gt_sp)"
   ]
  },
  {
   "cell_type": "code",
   "execution_count": 16,
   "metadata": {},
   "outputs": [
    {
     "data": {
      "text/plain": [
       "(160, 160, 1)"
      ]
     },
     "execution_count": 16,
     "metadata": {},
     "output_type": "execute_result"
    }
   ],
   "source": [
    "gt_binary.shape"
   ]
  },
  {
   "cell_type": "code",
   "execution_count": null,
   "metadata": {},
   "outputs": [],
   "source": [
    "for sample_id, gt_paths_group in groupby(GT_LIST, key=lambda x: int(os.path.basename(x).replace('.npy', '').split('_')[0])):\n",
    "    gt_slice_paths = sorted(list(gt_paths_group), key=lambda x: int(os.path.basename(x).replace('.npy', '').split('_')[-1]))\n",
    "\n",
    "    prediction_slices = list()\n",
    "    gt_slices = list()\n",
    "\n",
    "    for gt_sp in gt_slice_paths:\n",
    "        prediction = list()\n",
    "        for agent in AGENTS:\n",
    "            pred_binary = np.load(gt_sp.replace('/GT/', '/{}/'.format(agent))) # Binary representation\n",
    "            pred_softmax = np.concatenate([1-pred_binary, pred_binary], axis=-1) # One_hot (Not tumor, Tumor) representation\n",
    "            prediction.append(pred_softmax)\n",
    "        prediction = np.stack(prediction)\n",
    "        prediction_slices.append(prediction)\n",
    "        gt_binary = np.load(gt_sp)\n",
    "        gt_slices.append(np.concatenate([1-gt_binary, gt_binary], axis=-1))\n",
    "    \n",
    "    thread_input = list(zip([i for i in range(len(prediction_slices))], prediction_slices, gt_slices))\n",
    "    pool = Pool(processes=16)\n",
    "    thread_results = pool.map(run_thread, thread_input)\n",
    "    \n",
    "#     results, outputs = exp.run_experiment_on_list(proposals_list=prediction_slices[:5], gt_list=gt_slices[:5], return_mean=False, agent_names=AGENTS, label_names=['Negative', 'Positive'], return_outputs=True, MAX_STEPS=10)\n",
    "#     results['gt_id'] = sample_id\n",
    "    \n",
    "#     results.to_csv(RESULT_PATH+'csv/'+ str(sample_id) + '.csv')\n",
    "#     for output in outputs:\n",
    "#         for method_name, outp in output.items():\n",
    "#             os.makedirs(RESULT_PATH+method_name+'/', exist_ok=True)\n",
    "#             if isinstance(outp, dict):\n",
    "#                 for agr_prop in outp.keys():\n",
    "#                     np.save(RESULT_PATH+method_name+'/' + str(sample_id) + '_' + agr_prop + '.npy', outp[agr_prop])\n",
    "#             else:\n",
    "#                 np.save(RESULT_PATH+method_name+'/' + str(sample_id)+'.npy', outp.astype(np.float32))\n",
    "        \n",
    "    print(\"Done sample {}\".format(str(sample_id)))\n",
    "    break"
   ]
  },
  {
   "cell_type": "code",
   "execution_count": 15,
   "metadata": {},
   "outputs": [
    {
     "data": {
      "text/plain": [
       "16"
      ]
     },
     "execution_count": 15,
     "metadata": {},
     "output_type": "execute_result"
    }
   ],
   "source": [
    "os.cpu_count()"
   ]
  },
  {
   "cell_type": "code",
   "execution_count": 11,
   "metadata": {},
   "outputs": [
    {
     "data": {
      "text/plain": [
       "0"
      ]
     },
     "execution_count": 11,
     "metadata": {},
     "output_type": "execute_result"
    }
   ],
   "source": [
    "thread_input[0][0]"
   ]
  },
  {
   "cell_type": "code",
   "execution_count": null,
   "metadata": {},
   "outputs": [],
   "source": []
  }
 ],
 "metadata": {
  "kernelspec": {
   "display_name": "Python 3",
   "language": "python",
   "name": "python3"
  },
  "language_info": {
   "codemirror_mode": {
    "name": "ipython",
    "version": 3
   },
   "file_extension": ".py",
   "mimetype": "text/x-python",
   "name": "python",
   "nbconvert_exporter": "python",
   "pygments_lexer": "ipython3",
   "version": "3.6.9"
  }
 },
 "nbformat": 4,
 "nbformat_minor": 4
}
